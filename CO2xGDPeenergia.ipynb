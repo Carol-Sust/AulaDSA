{
 "cells": [
  {
   "cell_type": "code",
   "execution_count": 1,
   "id": "f0a5a159",
   "metadata": {},
   "outputs": [],
   "source": [
    "# Imports\n",
    "import joblib\n",
    "import pandas as pd\n",
    "import numpy as np\n",
    "import seaborn as sns\n",
    "import matplotlib.pyplot as plt\n",
    "import sklearn\n",
    "from sklearn.ensemble import RandomForestRegressor\n",
    "from sklearn.preprocessing import StandardScaler \n",
    "from sklearn.model_selection import train_test_split\n",
    "from sklearn.linear_model import LinearRegression, Ridge, Lasso, ElasticNet\n",
    "from sklearn.model_selection import GridSearchCV\n",
    "from sklearn import metrics\n",
    "import warnings\n",
    "warnings.filterwarnings(\"ignore\")"
   ]
  },
  {
   "cell_type": "code",
   "execution_count": 2,
   "id": "ebc30035",
   "metadata": {},
   "outputs": [],
   "source": [
    "# Carregando os dados\n",
    "dsa_dados = pd.read_csv('CO2.csv')"
   ]
  },
  {
   "cell_type": "code",
   "execution_count": 3,
   "id": "5404006d",
   "metadata": {},
   "outputs": [
    {
     "data": {
      "text/plain": [
       "(1955, 5)"
      ]
     },
     "execution_count": 3,
     "metadata": {},
     "output_type": "execute_result"
    }
   ],
   "source": [
    "# Shape\n",
    "dsa_dados.shape"
   ]
  },
  {
   "cell_type": "code",
   "execution_count": 4,
   "id": "ce440746",
   "metadata": {},
   "outputs": [
    {
     "data": {
      "text/html": [
       "<div>\n",
       "<style scoped>\n",
       "    .dataframe tbody tr th:only-of-type {\n",
       "        vertical-align: middle;\n",
       "    }\n",
       "\n",
       "    .dataframe tbody tr th {\n",
       "        vertical-align: top;\n",
       "    }\n",
       "\n",
       "    .dataframe thead th {\n",
       "        text-align: right;\n",
       "    }\n",
       "</style>\n",
       "<table border=\"1\" class=\"dataframe\">\n",
       "  <thead>\n",
       "    <tr style=\"text-align: right;\">\n",
       "      <th></th>\n",
       "      <th>Time</th>\n",
       "      <th>AE</th>\n",
       "      <th>GDP</th>\n",
       "      <th>RE</th>\n",
       "      <th>CO2</th>\n",
       "    </tr>\n",
       "  </thead>\n",
       "  <tbody>\n",
       "    <tr>\n",
       "      <th>1015</th>\n",
       "      <td>2014</td>\n",
       "      <td>88.653770</td>\n",
       "      <td>2206.054397</td>\n",
       "      <td>53.630000</td>\n",
       "      <td>1.056325</td>\n",
       "    </tr>\n",
       "    <tr>\n",
       "      <th>1059</th>\n",
       "      <td>2014</td>\n",
       "      <td>100.000000</td>\n",
       "      <td>8499.307148</td>\n",
       "      <td>1.200000</td>\n",
       "      <td>3.149295</td>\n",
       "    </tr>\n",
       "    <tr>\n",
       "      <th>602</th>\n",
       "      <td>2012</td>\n",
       "      <td>95.384079</td>\n",
       "      <td>8992.171694</td>\n",
       "      <td>1.638212</td>\n",
       "      <td>5.730132</td>\n",
       "    </tr>\n",
       "    <tr>\n",
       "      <th>1755</th>\n",
       "      <td>2017</td>\n",
       "      <td>98.853836</td>\n",
       "      <td>3978.676452</td>\n",
       "      <td>8.740000</td>\n",
       "      <td>0.879894</td>\n",
       "    </tr>\n",
       "    <tr>\n",
       "      <th>584</th>\n",
       "      <td>2012</td>\n",
       "      <td>78.306747</td>\n",
       "      <td>14721.869240</td>\n",
       "      <td>2.720000</td>\n",
       "      <td>9.168356</td>\n",
       "    </tr>\n",
       "    <tr>\n",
       "      <th>1842</th>\n",
       "      <td>2018</td>\n",
       "      <td>100.000000</td>\n",
       "      <td>74469.804060</td>\n",
       "      <td>80.710000</td>\n",
       "      <td>4.819673</td>\n",
       "    </tr>\n",
       "    <tr>\n",
       "      <th>1609</th>\n",
       "      <td>2017</td>\n",
       "      <td>88.690964</td>\n",
       "      <td>3292.633503</td>\n",
       "      <td>22.870000</td>\n",
       "      <td>1.097676</td>\n",
       "    </tr>\n",
       "    <tr>\n",
       "      <th>472</th>\n",
       "      <td>2012</td>\n",
       "      <td>99.628967</td>\n",
       "      <td>3681.844691</td>\n",
       "      <td>6.560000</td>\n",
       "      <td>1.983192</td>\n",
       "    </tr>\n",
       "    <tr>\n",
       "      <th>1127</th>\n",
       "      <td>2014</td>\n",
       "      <td>98.240425</td>\n",
       "      <td>7081.065478</td>\n",
       "      <td>3.320000</td>\n",
       "      <td>2.480068</td>\n",
       "    </tr>\n",
       "    <tr>\n",
       "      <th>69</th>\n",
       "      <td>2010</td>\n",
       "      <td>100.000000</td>\n",
       "      <td>32970.715470</td>\n",
       "      <td>14.501248</td>\n",
       "      <td>7.277359</td>\n",
       "    </tr>\n",
       "  </tbody>\n",
       "</table>\n",
       "</div>"
      ],
      "text/plain": [
       "      Time          AE           GDP         RE       CO2\n",
       "1015  2014   88.653770   2206.054397  53.630000  1.056325\n",
       "1059  2014  100.000000   8499.307148   1.200000  3.149295\n",
       "602   2012   95.384079   8992.171694   1.638212  5.730132\n",
       "1755  2017   98.853836   3978.676452   8.740000  0.879894\n",
       "584   2012   78.306747  14721.869240   2.720000  9.168356\n",
       "1842  2018  100.000000  74469.804060  80.710000  4.819673\n",
       "1609  2017   88.690964   3292.633503  22.870000  1.097676\n",
       "472   2012   99.628967   3681.844691   6.560000  1.983192\n",
       "1127  2014   98.240425   7081.065478   3.320000  2.480068\n",
       "69    2010  100.000000  32970.715470  14.501248  7.277359"
      ]
     },
     "execution_count": 4,
     "metadata": {},
     "output_type": "execute_result"
    }
   ],
   "source": [
    "# Amostra dos dados\n",
    "dsa_dados.sample(10)"
   ]
  },
  {
   "cell_type": "code",
   "execution_count": 5,
   "id": "76407cc7",
   "metadata": {},
   "outputs": [
    {
     "data": {
      "text/plain": [
       "Time      int64\n",
       "AE      float64\n",
       "GDP     float64\n",
       "RE      float64\n",
       "CO2     float64\n",
       "dtype: object"
      ]
     },
     "execution_count": 5,
     "metadata": {},
     "output_type": "execute_result"
    }
   ],
   "source": [
    "# Tipos de dados\n",
    "dsa_dados.dtypes"
   ]
  },
  {
   "cell_type": "code",
   "execution_count": 8,
   "id": "eb8797fe",
   "metadata": {},
   "outputs": [],
   "source": [
    "dsa_dados = dsa_dados[['AE', 'GDP', 'RE', 'CO2']].astype(float)"
   ]
  },
  {
   "cell_type": "code",
   "execution_count": 9,
   "id": "48ffed5d",
   "metadata": {},
   "outputs": [
    {
     "data": {
      "text/html": [
       "<div>\n",
       "<style scoped>\n",
       "    .dataframe tbody tr th:only-of-type {\n",
       "        vertical-align: middle;\n",
       "    }\n",
       "\n",
       "    .dataframe tbody tr th {\n",
       "        vertical-align: top;\n",
       "    }\n",
       "\n",
       "    .dataframe thead th {\n",
       "        text-align: right;\n",
       "    }\n",
       "</style>\n",
       "<table border=\"1\" class=\"dataframe\">\n",
       "  <thead>\n",
       "    <tr style=\"text-align: right;\">\n",
       "      <th></th>\n",
       "      <th>AE</th>\n",
       "      <th>GDP</th>\n",
       "      <th>RE</th>\n",
       "      <th>CO2</th>\n",
       "    </tr>\n",
       "  </thead>\n",
       "  <tbody>\n",
       "    <tr>\n",
       "      <th>567</th>\n",
       "      <td>99.500000</td>\n",
       "      <td>3910.346894</td>\n",
       "      <td>2.910000</td>\n",
       "      <td>2.981472</td>\n",
       "    </tr>\n",
       "    <tr>\n",
       "      <th>741</th>\n",
       "      <td>100.000000</td>\n",
       "      <td>13837.731640</td>\n",
       "      <td>32.820000</td>\n",
       "      <td>3.997003</td>\n",
       "    </tr>\n",
       "    <tr>\n",
       "      <th>1891</th>\n",
       "      <td>17.600000</td>\n",
       "      <td>570.723922</td>\n",
       "      <td>82.000000</td>\n",
       "      <td>0.086887</td>\n",
       "    </tr>\n",
       "    <tr>\n",
       "      <th>1656</th>\n",
       "      <td>92.124947</td>\n",
       "      <td>1980.667020</td>\n",
       "      <td>32.410000</td>\n",
       "      <td>1.733361</td>\n",
       "    </tr>\n",
       "    <tr>\n",
       "      <th>703</th>\n",
       "      <td>99.342674</td>\n",
       "      <td>13080.254730</td>\n",
       "      <td>8.910000</td>\n",
       "      <td>4.342115</td>\n",
       "    </tr>\n",
       "    <tr>\n",
       "      <th>496</th>\n",
       "      <td>100.000000</td>\n",
       "      <td>52669.089960</td>\n",
       "      <td>22.170000</td>\n",
       "      <td>15.734474</td>\n",
       "    </tr>\n",
       "    <tr>\n",
       "      <th>1869</th>\n",
       "      <td>18.020000</td>\n",
       "      <td>544.593459</td>\n",
       "      <td>73.030000</td>\n",
       "      <td>0.076061</td>\n",
       "    </tr>\n",
       "    <tr>\n",
       "      <th>548</th>\n",
       "      <td>32.080425</td>\n",
       "      <td>916.195272</td>\n",
       "      <td>77.951675</td>\n",
       "      <td>0.250396</td>\n",
       "    </tr>\n",
       "    <tr>\n",
       "      <th>1336</th>\n",
       "      <td>100.000000</td>\n",
       "      <td>8969.148921</td>\n",
       "      <td>23.670000</td>\n",
       "      <td>3.700112</td>\n",
       "    </tr>\n",
       "    <tr>\n",
       "      <th>580</th>\n",
       "      <td>38.296388</td>\n",
       "      <td>955.345032</td>\n",
       "      <td>74.271255</td>\n",
       "      <td>0.263330</td>\n",
       "    </tr>\n",
       "  </tbody>\n",
       "</table>\n",
       "</div>"
      ],
      "text/plain": [
       "              AE           GDP         RE        CO2\n",
       "567    99.500000   3910.346894   2.910000   2.981472\n",
       "741   100.000000  13837.731640  32.820000   3.997003\n",
       "1891   17.600000    570.723922  82.000000   0.086887\n",
       "1656   92.124947   1980.667020  32.410000   1.733361\n",
       "703    99.342674  13080.254730   8.910000   4.342115\n",
       "496   100.000000  52669.089960  22.170000  15.734474\n",
       "1869   18.020000    544.593459  73.030000   0.076061\n",
       "548    32.080425    916.195272  77.951675   0.250396\n",
       "1336  100.000000   8969.148921  23.670000   3.700112\n",
       "580    38.296388    955.345032  74.271255   0.263330"
      ]
     },
     "execution_count": 9,
     "metadata": {},
     "output_type": "execute_result"
    }
   ],
   "source": [
    "# Amostra dos dados\n",
    "dsa_dados.sample(10)"
   ]
  },
  {
   "cell_type": "code",
   "execution_count": 10,
   "id": "86036b90",
   "metadata": {},
   "outputs": [
    {
     "name": "stdout",
     "output_type": "stream",
     "text": [
      "Total de Valores Ausentes: 0\n"
     ]
    }
   ],
   "source": [
    "print('Total de Valores Ausentes:', dsa_dados.isnull().sum().sum())"
   ]
  },
  {
   "cell_type": "code",
   "execution_count": 97,
   "id": "c1c76636",
   "metadata": {},
   "outputs": [],
   "source": [
    "# Identificação de outliers através do método do IQR (Interquartile Range)\n",
    "Q1 = dsa_dados.quantile(0.25)\n",
    "Q3 = dsa_dados.quantile(0.75)\n",
    "IQR = Q3 - Q1"
   ]
  },
  {
   "cell_type": "code",
   "execution_count": 99,
   "id": "ce84e696",
   "metadata": {},
   "outputs": [],
   "source": [
    "# Definir outliers como aqueles valores que estão fora do intervalo [Q1 - 1.5 * IQR, Q3 + 1.5 * IQR]\n",
    "outliers = ((dsa_dados < (Q1 - 1.5 * IQR)) | (dsa_dados > (Q3 + 1.5 * IQR))).sum()"
   ]
  },
  {
   "cell_type": "code",
   "execution_count": 100,
   "id": "22c57828",
   "metadata": {},
   "outputs": [
    {
     "data": {
      "text/plain": [
       "AE      92\n",
       "GDP    263\n",
       "RE       0\n",
       "CO2    117\n",
       "dtype: int64"
      ]
     },
     "execution_count": 100,
     "metadata": {},
     "output_type": "execute_result"
    }
   ],
   "source": [
    "# Total de outliers\n",
    "outliers"
   ]
  },
  {
   "cell_type": "code",
   "execution_count": 101,
   "id": "4f163132",
   "metadata": {},
   "outputs": [],
   "source": [
    "# Cria um resumo com os outliers\n",
    "outliers_summary = pd.DataFrame({'Outliers': outliers, 'Percentual': (outliers / len(dsa_dados)) * 100})"
   ]
  },
  {
   "cell_type": "code",
   "execution_count": 102,
   "id": "89d20af0",
   "metadata": {},
   "outputs": [
    {
     "data": {
      "text/html": [
       "<div>\n",
       "<style scoped>\n",
       "    .dataframe tbody tr th:only-of-type {\n",
       "        vertical-align: middle;\n",
       "    }\n",
       "\n",
       "    .dataframe tbody tr th {\n",
       "        vertical-align: top;\n",
       "    }\n",
       "\n",
       "    .dataframe thead th {\n",
       "        text-align: right;\n",
       "    }\n",
       "</style>\n",
       "<table border=\"1\" class=\"dataframe\">\n",
       "  <thead>\n",
       "    <tr style=\"text-align: right;\">\n",
       "      <th></th>\n",
       "      <th>Outliers</th>\n",
       "      <th>Percentual</th>\n",
       "    </tr>\n",
       "  </thead>\n",
       "  <tbody>\n",
       "    <tr>\n",
       "      <th>AE</th>\n",
       "      <td>92</td>\n",
       "      <td>4.705882</td>\n",
       "    </tr>\n",
       "    <tr>\n",
       "      <th>GDP</th>\n",
       "      <td>263</td>\n",
       "      <td>13.452685</td>\n",
       "    </tr>\n",
       "    <tr>\n",
       "      <th>CO2</th>\n",
       "      <td>117</td>\n",
       "      <td>5.984655</td>\n",
       "    </tr>\n",
       "  </tbody>\n",
       "</table>\n",
       "</div>"
      ],
      "text/plain": [
       "     Outliers  Percentual\n",
       "AE         92    4.705882\n",
       "GDP       263   13.452685\n",
       "CO2       117    5.984655"
      ]
     },
     "execution_count": 102,
     "metadata": {},
     "output_type": "execute_result"
    }
   ],
   "source": [
    "# Retorna os resultados quando o valor for maior do que zero\n",
    "outliers_summary[outliers_summary['Outliers'] > 0]"
   ]
  },
  {
   "cell_type": "code",
   "execution_count": 103,
   "id": "3653867f",
   "metadata": {},
   "outputs": [],
   "source": [
    "# Definindo os limites para filtrar os outliers\n",
    "limite_inferior = Q1 - 1.5 * IQR\n",
    "limite_superior = Q3 + 1.5 * IQR"
   ]
  },
  {
   "cell_type": "code",
   "execution_count": 105,
   "id": "dd2f97b1",
   "metadata": {},
   "outputs": [],
   "source": [
    "# Filtrando os outliers\n",
    "dsa_dados  = dsa_dados[~((dsa_dados  < limite_inferior) | (dsa_dados  > limite_superior)).any(axis = 1)]"
   ]
  },
  {
   "cell_type": "code",
   "execution_count": 106,
   "id": "a6edc98b",
   "metadata": {},
   "outputs": [
    {
     "data": {
      "text/plain": [
       "(1552, 4)"
      ]
     },
     "execution_count": 106,
     "metadata": {},
     "output_type": "execute_result"
    }
   ],
   "source": [
    "# Shape\n",
    "dsa_dados.shape"
   ]
  },
  {
   "cell_type": "code",
   "execution_count": 107,
   "id": "45ed1297",
   "metadata": {},
   "outputs": [
    {
     "data": {
      "text/html": [
       "<div>\n",
       "<style scoped>\n",
       "    .dataframe tbody tr th:only-of-type {\n",
       "        vertical-align: middle;\n",
       "    }\n",
       "\n",
       "    .dataframe tbody tr th {\n",
       "        vertical-align: top;\n",
       "    }\n",
       "\n",
       "    .dataframe thead th {\n",
       "        text-align: right;\n",
       "    }\n",
       "</style>\n",
       "<table border=\"1\" class=\"dataframe\">\n",
       "  <thead>\n",
       "    <tr style=\"text-align: right;\">\n",
       "      <th></th>\n",
       "      <th>AE</th>\n",
       "      <th>GDP</th>\n",
       "      <th>RE</th>\n",
       "      <th>CO2</th>\n",
       "    </tr>\n",
       "  </thead>\n",
       "  <tbody>\n",
       "    <tr>\n",
       "      <th>count</th>\n",
       "      <td>1552.000000</td>\n",
       "      <td>1552.000000</td>\n",
       "      <td>1552.000000</td>\n",
       "      <td>1552.000000</td>\n",
       "    </tr>\n",
       "    <tr>\n",
       "      <th>mean</th>\n",
       "      <td>81.522894</td>\n",
       "      <td>6983.514173</td>\n",
       "      <td>31.466424</td>\n",
       "      <td>3.115645</td>\n",
       "    </tr>\n",
       "    <tr>\n",
       "      <th>std</th>\n",
       "      <td>24.227877</td>\n",
       "      <td>6972.962004</td>\n",
       "      <td>26.788632</td>\n",
       "      <td>2.892780</td>\n",
       "    </tr>\n",
       "    <tr>\n",
       "      <th>min</th>\n",
       "      <td>17.700001</td>\n",
       "      <td>341.554123</td>\n",
       "      <td>0.000000</td>\n",
       "      <td>0.035013</td>\n",
       "    </tr>\n",
       "    <tr>\n",
       "      <th>25%</th>\n",
       "      <td>66.156841</td>\n",
       "      <td>1830.629167</td>\n",
       "      <td>10.280000</td>\n",
       "      <td>0.776505</td>\n",
       "    </tr>\n",
       "    <tr>\n",
       "      <th>50%</th>\n",
       "      <td>95.392040</td>\n",
       "      <td>4573.122374</td>\n",
       "      <td>24.090000</td>\n",
       "      <td>2.396943</td>\n",
       "    </tr>\n",
       "    <tr>\n",
       "      <th>75%</th>\n",
       "      <td>99.921119</td>\n",
       "      <td>9552.107519</td>\n",
       "      <td>49.332500</td>\n",
       "      <td>4.592097</td>\n",
       "    </tr>\n",
       "    <tr>\n",
       "      <th>max</th>\n",
       "      <td>100.000000</td>\n",
       "      <td>35051.521270</td>\n",
       "      <td>96.700000</td>\n",
       "      <td>14.109945</td>\n",
       "    </tr>\n",
       "  </tbody>\n",
       "</table>\n",
       "</div>"
      ],
      "text/plain": [
       "                AE           GDP           RE          CO2\n",
       "count  1552.000000   1552.000000  1552.000000  1552.000000\n",
       "mean     81.522894   6983.514173    31.466424     3.115645\n",
       "std      24.227877   6972.962004    26.788632     2.892780\n",
       "min      17.700001    341.554123     0.000000     0.035013\n",
       "25%      66.156841   1830.629167    10.280000     0.776505\n",
       "50%      95.392040   4573.122374    24.090000     2.396943\n",
       "75%      99.921119   9552.107519    49.332500     4.592097\n",
       "max     100.000000  35051.521270    96.700000    14.109945"
      ]
     },
     "execution_count": 107,
     "metadata": {},
     "output_type": "execute_result"
    }
   ],
   "source": [
    "# Resumo estatístico de todas as variáveis\n",
    "dsa_dados.describe(include = 'all')"
   ]
  },
  {
   "cell_type": "code",
   "execution_count": 108,
   "id": "4b5061e6",
   "metadata": {},
   "outputs": [],
   "source": [
    "# Função para o plot da relação da variável alvo com alguns atributos\n",
    "def dsa_get_pairs(data, alvo, atributos, n):\n",
    "    \n",
    "    # Grupos de linhas com 3 (n) gráficos por linha\n",
    "    grupos_linhas = [atributos[i:i+n] for i in range(0, len(atributos), n)]\n",
    "\n",
    "    # Loop pelos grupos de linhas para criar cada pair plot\n",
    "    for linha in grupos_linhas:\n",
    "        plot = sns.pairplot(x_vars = linha, y_vars = alvo, data = data, kind = \"reg\", height = 3)\n",
    "\n",
    "    return"
   ]
  },
  {
   "cell_type": "code",
   "execution_count": 109,
   "id": "816852c5",
   "metadata": {},
   "outputs": [],
   "source": [
    "# Variável alvo\n",
    "alvo = ['CO2']"
   ]
  },
  {
   "cell_type": "code",
   "execution_count": 110,
   "id": "29730ad8",
   "metadata": {},
   "outputs": [],
   "source": [
    "# Vamos usar alguns atributos\n",
    "atributos = ['AE', 'GDP', 'RE'] "
   ]
  },
  {
   "cell_type": "code",
   "execution_count": 111,
   "id": "62dc90b9",
   "metadata": {},
   "outputs": [
    {
     "data": {
      "image/png": "[encoded data removed]",
      "text/plain": [
       "<Figure size 900x300 with 3 Axes>"
      ]
     },
     "metadata": {},
     "output_type": "display_data"
    }
   ],
   "source": [
    "# Verificando outliers\n",
    "dsa_get_pairs(dsa_dados, alvo, atributos, 3)"
   ]
  },
  {
   "cell_type": "code",
   "execution_count": 112,
   "id": "02de766f",
   "metadata": {},
   "outputs": [
    {
     "data": {
      "text/html": [
       "<div>\n",
       "<style scoped>\n",
       "    .dataframe tbody tr th:only-of-type {\n",
       "        vertical-align: middle;\n",
       "    }\n",
       "\n",
       "    .dataframe tbody tr th {\n",
       "        vertical-align: top;\n",
       "    }\n",
       "\n",
       "    .dataframe thead th {\n",
       "        text-align: right;\n",
       "    }\n",
       "</style>\n",
       "<table border=\"1\" class=\"dataframe\">\n",
       "  <thead>\n",
       "    <tr style=\"text-align: right;\">\n",
       "      <th></th>\n",
       "      <th>AE</th>\n",
       "      <th>GDP</th>\n",
       "      <th>RE</th>\n",
       "      <th>CO2</th>\n",
       "    </tr>\n",
       "  </thead>\n",
       "  <tbody>\n",
       "    <tr>\n",
       "      <th>AE</th>\n",
       "      <td>1.000000</td>\n",
       "      <td>0.504750</td>\n",
       "      <td>-0.738998</td>\n",
       "      <td>0.560693</td>\n",
       "    </tr>\n",
       "    <tr>\n",
       "      <th>GDP</th>\n",
       "      <td>0.504750</td>\n",
       "      <td>1.000000</td>\n",
       "      <td>-0.467407</td>\n",
       "      <td>0.681812</td>\n",
       "    </tr>\n",
       "    <tr>\n",
       "      <th>RE</th>\n",
       "      <td>-0.738998</td>\n",
       "      <td>-0.467407</td>\n",
       "      <td>1.000000</td>\n",
       "      <td>-0.639738</td>\n",
       "    </tr>\n",
       "    <tr>\n",
       "      <th>CO2</th>\n",
       "      <td>0.560693</td>\n",
       "      <td>0.681812</td>\n",
       "      <td>-0.639738</td>\n",
       "      <td>1.000000</td>\n",
       "    </tr>\n",
       "  </tbody>\n",
       "</table>\n",
       "</div>"
      ],
      "text/plain": [
       "           AE       GDP        RE       CO2\n",
       "AE   1.000000  0.504750 -0.738998  0.560693\n",
       "GDP  0.504750  1.000000 -0.467407  0.681812\n",
       "RE  -0.738998 -0.467407  1.000000 -0.639738\n",
       "CO2  0.560693  0.681812 -0.639738  1.000000"
      ]
     },
     "execution_count": 112,
     "metadata": {},
     "output_type": "execute_result"
    }
   ],
   "source": [
    "# Correlação das variáveis numéricas no conjunto de dados\n",
    "dsa_dados.corr()"
   ]
  },
  {
   "cell_type": "code",
   "execution_count": 113,
   "id": "675838db",
   "metadata": {},
   "outputs": [],
   "source": [
    "# Separando variáveis independentes (X) e dependente (y)\n",
    "X = dsa_dados[['AE', 'GDP', 'RE']]\n",
    "y = dsa_dados['CO2']"
   ]
  },
  {
   "cell_type": "code",
   "execution_count": 114,
   "id": "b2a03198",
   "metadata": {},
   "outputs": [],
   "source": [
    "# Dividindo os dados em treino e teste\n",
    "X_train, X_test, y_train, y_test = train_test_split(X, y, test_size = 0.2, random_state = 42)"
   ]
  },
  {
   "cell_type": "code",
   "execution_count": 115,
   "id": "5c0a1444",
   "metadata": {},
   "outputs": [
    {
     "data": {
      "text/html": [
       "<style>#sk-container-id-8 {color: black;background-color: white;}#sk-container-id-8 pre{padding: 0;}#sk-container-id-8 div.sk-toggleable {background-color: white;}#sk-container-id-8 label.sk-toggleable__label {cursor: pointer;display: block;width: 100%;margin-bottom: 0;padding: 0.3em;box-sizing: border-box;text-align: center;}#sk-container-id-8 label.sk-toggleable__label-arrow:before {content: \"▸\";float: left;margin-right: 0.25em;color: #696969;}#sk-container-id-8 label.sk-toggleable__label-arrow:hover:before {color: black;}#sk-container-id-8 div.sk-estimator:hover label.sk-toggleable__label-arrow:before {color: black;}#sk-container-id-8 div.sk-toggleable__content {max-height: 0;max-width: 0;overflow: hidden;text-align: left;background-color: #f0f8ff;}#sk-container-id-8 div.sk-toggleable__content pre {margin: 0.2em;color: black;border-radius: 0.25em;background-color: #f0f8ff;}#sk-container-id-8 input.sk-toggleable__control:checked~div.sk-toggleable__content {max-height: 200px;max-width: 100%;overflow: auto;}#sk-container-id-8 input.sk-toggleable__control:checked~label.sk-toggleable__label-arrow:before {content: \"▾\";}#sk-container-id-8 div.sk-estimator input.sk-toggleable__control:checked~label.sk-toggleable__label {background-color: #d4ebff;}#sk-container-id-8 div.sk-label input.sk-toggleable__control:checked~label.sk-toggleable__label {background-color: #d4ebff;}#sk-container-id-8 input.sk-hidden--visually {border: 0;clip: rect(1px 1px 1px 1px);clip: rect(1px, 1px, 1px, 1px);height: 1px;margin: -1px;overflow: hidden;padding: 0;position: absolute;width: 1px;}#sk-container-id-8 div.sk-estimator {font-family: monospace;background-color: #f0f8ff;border: 1px dotted black;border-radius: 0.25em;box-sizing: border-box;margin-bottom: 0.5em;}#sk-container-id-8 div.sk-estimator:hover {background-color: #d4ebff;}#sk-container-id-8 div.sk-parallel-item::after {content: \"\";width: 100%;border-bottom: 1px solid gray;flex-grow: 1;}#sk-container-id-8 div.sk-label:hover label.sk-toggleable__label {background-color: #d4ebff;}#sk-container-id-8 div.sk-serial::before {content: \"\";position: absolute;border-left: 1px solid gray;box-sizing: border-box;top: 0;bottom: 0;left: 50%;z-index: 0;}#sk-container-id-8 div.sk-serial {display: flex;flex-direction: column;align-items: center;background-color: white;padding-right: 0.2em;padding-left: 0.2em;position: relative;}#sk-container-id-8 div.sk-item {position: relative;z-index: 1;}#sk-container-id-8 div.sk-parallel {display: flex;align-items: stretch;justify-content: center;background-color: white;position: relative;}#sk-container-id-8 div.sk-item::before, #sk-container-id-8 div.sk-parallel-item::before {content: \"\";position: absolute;border-left: 1px solid gray;box-sizing: border-box;top: 0;bottom: 0;left: 50%;z-index: -1;}#sk-container-id-8 div.sk-parallel-item {display: flex;flex-direction: column;z-index: 1;position: relative;background-color: white;}#sk-container-id-8 div.sk-parallel-item:first-child::after {align-self: flex-end;width: 50%;}#sk-container-id-8 div.sk-parallel-item:last-child::after {align-self: flex-start;width: 50%;}#sk-container-id-8 div.sk-parallel-item:only-child::after {width: 0;}#sk-container-id-8 div.sk-dashed-wrapped {border: 1px dashed gray;margin: 0 0.4em 0.5em 0.4em;box-sizing: border-box;padding-bottom: 0.4em;background-color: white;}#sk-container-id-8 div.sk-label label {font-family: monospace;font-weight: bold;display: inline-block;line-height: 1.2em;}#sk-container-id-8 div.sk-label-container {text-align: center;}#sk-container-id-8 div.sk-container {/* jupyter's `normalize.less` sets `[hidden] { display: none; }` but bootstrap.min.css set `[hidden] { display: none !important; }` so we also need the `!important` here to be able to override the default hidden behavior on the sphinx rendered scikit-learn.org. See: https://github.com/scikit-learn/scikit-learn/issues/21755 */display: inline-block !important;position: relative;}#sk-container-id-8 div.sk-text-repr-fallback {display: none;}</style><div id=\"sk-container-id-8\" class=\"sk-top-container\"><div class=\"sk-text-repr-fallback\"><pre>RandomForestRegressor(random_state=42)</pre><b>In a Jupyter environment, please rerun this cell to show the HTML representation or trust the notebook. <br />On GitHub, the HTML representation is unable to render, please try loading this page with nbviewer.org.</b></div><div class=\"sk-container\" hidden><div class=\"sk-item\"><div class=\"sk-estimator sk-toggleable\"><input class=\"sk-toggleable__control sk-hidden--visually\" id=\"sk-estimator-id-10\" type=\"checkbox\" checked><label for=\"sk-estimator-id-10\" class=\"sk-toggleable__label sk-toggleable__label-arrow\">RandomForestRegressor</label><div class=\"sk-toggleable__content\"><pre>RandomForestRegressor(random_state=42)</pre></div></div></div></div></div>"
      ],
      "text/plain": [
       "RandomForestRegressor(random_state=42)"
      ]
     },
     "execution_count": 115,
     "metadata": {},
     "output_type": "execute_result"
    }
   ],
   "source": [
    "# Inicializando e treinando o RandomForestRegressor\n",
    "modelo = RandomForestRegressor(n_estimators = 100, random_state = 42)\n",
    "modelo.fit(X_train, y_train)"
   ]
  },
  {
   "cell_type": "code",
   "execution_count": 116,
   "id": "a18496e8",
   "metadata": {},
   "outputs": [],
   "source": [
    "# Fazendo previsões com o conjunto de teste\n",
    "y_pred = modelo.predict(X_test)"
   ]
  },
  {
   "cell_type": "code",
   "execution_count": 117,
   "id": "66e7503e",
   "metadata": {},
   "outputs": [],
   "source": [
    "# Avaliando o modelo\n",
    "mse = metrics.mean_squared_error(y_test, y_pred)\n",
    "rmse = np.sqrt(mse)"
   ]
  },
  {
   "cell_type": "code",
   "execution_count": 118,
   "id": "d7dfd570",
   "metadata": {},
   "outputs": [
    {
     "name": "stdout",
     "output_type": "stream",
     "text": [
      "RMSE: 1.2596348385962384\n"
     ]
    }
   ],
   "source": [
    "print(f\"RMSE: {rmse}\")"
   ]
  },
  {
   "cell_type": "code",
   "execution_count": 119,
   "id": "bcd67498",
   "metadata": {},
   "outputs": [
    {
     "name": "stdout",
     "output_type": "stream",
     "text": [
      "R2 Score: 0.8405434956296118\n"
     ]
    }
   ],
   "source": [
    "print('R2 Score:', metrics.r2_score(y_test, y_pred))"
   ]
  },
  {
   "cell_type": "code",
   "execution_count": 120,
   "id": "295f2ea5",
   "metadata": {},
   "outputs": [],
   "source": [
    "# Identificando a importância das variáveis\n",
    "importancias = modelo.feature_importances_\n",
    "variaveis = X.columns"
   ]
  },
  {
   "cell_type": "code",
   "execution_count": 121,
   "id": "78a428e2",
   "metadata": {},
   "outputs": [],
   "source": [
    "# Dataframe das variáveis mais relevantes\n",
    "importancias_df = pd.DataFrame({'Variável': variaveis, \n",
    "                                'Importância': importancias}).sort_values(by = 'Importância', \n",
    "                                                                          ascending = False)"
   ]
  },
  {
   "cell_type": "code",
   "execution_count": 122,
   "id": "3af5631a",
   "metadata": {},
   "outputs": [
    {
     "name": "stdout",
     "output_type": "stream",
     "text": [
      "  Variável  Importância\n",
      "1      GDP     0.590653\n",
      "2       RE     0.262296\n",
      "0       AE     0.147051\n"
     ]
    }
   ],
   "source": [
    "print(importancias_df)"
   ]
  },
  {
   "cell_type": "code",
   "execution_count": 123,
   "id": "a02d2704",
   "metadata": {},
   "outputs": [],
   "source": [
    "# Split dos dados em X e Y\n",
    "X = dsa_dados[['AE', 'GDP', 'RE']].values\n",
    "y = dsa_dados.CO2.values.reshape(-1,1)"
   ]
  },
  {
   "cell_type": "code",
   "execution_count": 124,
   "id": "10ab8567",
   "metadata": {},
   "outputs": [],
   "source": [
    "# Split em treino e teste\n",
    "x_treino, x_teste, y_treino, y_teste = train_test_split(X, y, test_size = 0.2, random_state = 0)"
   ]
  },
  {
   "cell_type": "code",
   "execution_count": 125,
   "id": "d777ab00",
   "metadata": {},
   "outputs": [
    {
     "data": {
      "text/plain": [
       "1241"
      ]
     },
     "execution_count": 125,
     "metadata": {},
     "output_type": "execute_result"
    }
   ],
   "source": [
    "len(x_treino)"
   ]
  },
  {
   "cell_type": "code",
   "execution_count": 126,
   "id": "38c35e3e",
   "metadata": {},
   "outputs": [
    {
     "data": {
      "text/plain": [
       "1241"
      ]
     },
     "execution_count": 126,
     "metadata": {},
     "output_type": "execute_result"
    }
   ],
   "source": [
    "len(y_treino)"
   ]
  },
  {
   "cell_type": "code",
   "execution_count": 127,
   "id": "5260c5be",
   "metadata": {},
   "outputs": [
    {
     "data": {
      "text/plain": [
       "311"
      ]
     },
     "execution_count": 127,
     "metadata": {},
     "output_type": "execute_result"
    }
   ],
   "source": [
    "len(x_teste)"
   ]
  },
  {
   "cell_type": "code",
   "execution_count": 128,
   "id": "fe0e6271",
   "metadata": {},
   "outputs": [
    {
     "data": {
      "text/plain": [
       "311"
      ]
     },
     "execution_count": 128,
     "metadata": {},
     "output_type": "execute_result"
    }
   ],
   "source": [
    "len(y_teste)"
   ]
  },
  {
   "cell_type": "code",
   "execution_count": 129,
   "id": "a41a35ee",
   "metadata": {},
   "outputs": [],
   "source": [
    "# Criamos o padronizador\n",
    "dsa_scaler = StandardScaler()"
   ]
  },
  {
   "cell_type": "code",
   "execution_count": 130,
   "id": "3d8b1ff3",
   "metadata": {},
   "outputs": [
    {
     "data": {
      "text/html": [
       "<style>#sk-container-id-9 {color: black;background-color: white;}#sk-container-id-9 pre{padding: 0;}#sk-container-id-9 div.sk-toggleable {background-color: white;}#sk-container-id-9 label.sk-toggleable__label {cursor: pointer;display: block;width: 100%;margin-bottom: 0;padding: 0.3em;box-sizing: border-box;text-align: center;}#sk-container-id-9 label.sk-toggleable__label-arrow:before {content: \"▸\";float: left;margin-right: 0.25em;color: #696969;}#sk-container-id-9 label.sk-toggleable__label-arrow:hover:before {color: black;}#sk-container-id-9 div.sk-estimator:hover label.sk-toggleable__label-arrow:before {color: black;}#sk-container-id-9 div.sk-toggleable__content {max-height: 0;max-width: 0;overflow: hidden;text-align: left;background-color: #f0f8ff;}#sk-container-id-9 div.sk-toggleable__content pre {margin: 0.2em;color: black;border-radius: 0.25em;background-color: #f0f8ff;}#sk-container-id-9 input.sk-toggleable__control:checked~div.sk-toggleable__content {max-height: 200px;max-width: 100%;overflow: auto;}#sk-container-id-9 input.sk-toggleable__control:checked~label.sk-toggleable__label-arrow:before {content: \"▾\";}#sk-container-id-9 div.sk-estimator input.sk-toggleable__control:checked~label.sk-toggleable__label {background-color: #d4ebff;}#sk-container-id-9 div.sk-label input.sk-toggleable__control:checked~label.sk-toggleable__label {background-color: #d4ebff;}#sk-container-id-9 input.sk-hidden--visually {border: 0;clip: rect(1px 1px 1px 1px);clip: rect(1px, 1px, 1px, 1px);height: 1px;margin: -1px;overflow: hidden;padding: 0;position: absolute;width: 1px;}#sk-container-id-9 div.sk-estimator {font-family: monospace;background-color: #f0f8ff;border: 1px dotted black;border-radius: 0.25em;box-sizing: border-box;margin-bottom: 0.5em;}#sk-container-id-9 div.sk-estimator:hover {background-color: #d4ebff;}#sk-container-id-9 div.sk-parallel-item::after {content: \"\";width: 100%;border-bottom: 1px solid gray;flex-grow: 1;}#sk-container-id-9 div.sk-label:hover label.sk-toggleable__label {background-color: #d4ebff;}#sk-container-id-9 div.sk-serial::before {content: \"\";position: absolute;border-left: 1px solid gray;box-sizing: border-box;top: 0;bottom: 0;left: 50%;z-index: 0;}#sk-container-id-9 div.sk-serial {display: flex;flex-direction: column;align-items: center;background-color: white;padding-right: 0.2em;padding-left: 0.2em;position: relative;}#sk-container-id-9 div.sk-item {position: relative;z-index: 1;}#sk-container-id-9 div.sk-parallel {display: flex;align-items: stretch;justify-content: center;background-color: white;position: relative;}#sk-container-id-9 div.sk-item::before, #sk-container-id-9 div.sk-parallel-item::before {content: \"\";position: absolute;border-left: 1px solid gray;box-sizing: border-box;top: 0;bottom: 0;left: 50%;z-index: -1;}#sk-container-id-9 div.sk-parallel-item {display: flex;flex-direction: column;z-index: 1;position: relative;background-color: white;}#sk-container-id-9 div.sk-parallel-item:first-child::after {align-self: flex-end;width: 50%;}#sk-container-id-9 div.sk-parallel-item:last-child::after {align-self: flex-start;width: 50%;}#sk-container-id-9 div.sk-parallel-item:only-child::after {width: 0;}#sk-container-id-9 div.sk-dashed-wrapped {border: 1px dashed gray;margin: 0 0.4em 0.5em 0.4em;box-sizing: border-box;padding-bottom: 0.4em;background-color: white;}#sk-container-id-9 div.sk-label label {font-family: monospace;font-weight: bold;display: inline-block;line-height: 1.2em;}#sk-container-id-9 div.sk-label-container {text-align: center;}#sk-container-id-9 div.sk-container {/* jupyter's `normalize.less` sets `[hidden] { display: none; }` but bootstrap.min.css set `[hidden] { display: none !important; }` so we also need the `!important` here to be able to override the default hidden behavior on the sphinx rendered scikit-learn.org. See: https://github.com/scikit-learn/scikit-learn/issues/21755 */display: inline-block !important;position: relative;}#sk-container-id-9 div.sk-text-repr-fallback {display: none;}</style><div id=\"sk-container-id-9\" class=\"sk-top-container\"><div class=\"sk-text-repr-fallback\"><pre>StandardScaler()</pre><b>In a Jupyter environment, please rerun this cell to show the HTML representation or trust the notebook. <br />On GitHub, the HTML representation is unable to render, please try loading this page with nbviewer.org.</b></div><div class=\"sk-container\" hidden><div class=\"sk-item\"><div class=\"sk-estimator sk-toggleable\"><input class=\"sk-toggleable__control sk-hidden--visually\" id=\"sk-estimator-id-11\" type=\"checkbox\" checked><label for=\"sk-estimator-id-11\" class=\"sk-toggleable__label sk-toggleable__label-arrow\">StandardScaler</label><div class=\"sk-toggleable__content\"><pre>StandardScaler()</pre></div></div></div></div></div>"
      ],
      "text/plain": [
       "StandardScaler()"
      ]
     },
     "execution_count": 130,
     "metadata": {},
     "output_type": "execute_result"
    }
   ],
   "source": [
    "# Fazemos o Fit somente com dados de treino!!!\n",
    "dsa_scaler.fit(x_treino)"
   ]
  },
  {
   "cell_type": "code",
   "execution_count": 131,
   "id": "256513fd",
   "metadata": {},
   "outputs": [],
   "source": [
    "# Aplicamos o scaler nos dados de treino e teste\n",
    "x_treino_scaled = dsa_scaler.transform(x_treino)\n",
    "x_teste_scaled = dsa_scaler.transform(x_teste)"
   ]
  },
  {
   "cell_type": "code",
   "execution_count": 132,
   "id": "61e04212",
   "metadata": {},
   "outputs": [
    {
     "data": {
      "text/plain": [
       "array([[-0.40359965, -0.46910375, -1.01672011],\n",
       "       [ 0.57148248, -0.0388498 , -0.98026512],\n",
       "       [-0.02302151, -0.38109348, -1.05503504],\n",
       "       ...,\n",
       "       [ 0.75953692,  1.37560057, -0.68006944],\n",
       "       [-1.95896992, -0.83159563,  0.76622644],\n",
       "       [ 0.67628604,  1.12287948, -1.11194946]])"
      ]
     },
     "execution_count": 132,
     "metadata": {},
     "output_type": "execute_result"
    }
   ],
   "source": [
    "x_treino_scaled"
   ]
  },
  {
   "cell_type": "code",
   "execution_count": 133,
   "id": "7a8b276b",
   "metadata": {},
   "outputs": [
    {
     "data": {
      "text/plain": [
       "(1241, 3)"
      ]
     },
     "execution_count": 133,
     "metadata": {},
     "output_type": "execute_result"
    }
   ],
   "source": [
    "x_treino_scaled.shape"
   ]
  },
  {
   "cell_type": "code",
   "execution_count": 134,
   "id": "df1a8e34",
   "metadata": {},
   "outputs": [
    {
     "data": {
      "text/plain": [
       "(311, 3)"
      ]
     },
     "execution_count": 134,
     "metadata": {},
     "output_type": "execute_result"
    }
   ],
   "source": [
    "x_teste_scaled.shape"
   ]
  },
  {
   "cell_type": "code",
   "execution_count": 135,
   "id": "6d15022f",
   "metadata": {},
   "outputs": [],
   "source": [
    "# Cria o modelo\n",
    "modelo_dsa_v1 = LinearRegression()"
   ]
  },
  {
   "cell_type": "code",
   "execution_count": 136,
   "id": "7023ef66",
   "metadata": {},
   "outputs": [
    {
     "data": {
      "text/html": [
       "<style>#sk-container-id-10 {color: black;background-color: white;}#sk-container-id-10 pre{padding: 0;}#sk-container-id-10 div.sk-toggleable {background-color: white;}#sk-container-id-10 label.sk-toggleable__label {cursor: pointer;display: block;width: 100%;margin-bottom: 0;padding: 0.3em;box-sizing: border-box;text-align: center;}#sk-container-id-10 label.sk-toggleable__label-arrow:before {content: \"▸\";float: left;margin-right: 0.25em;color: #696969;}#sk-container-id-10 label.sk-toggleable__label-arrow:hover:before {color: black;}#sk-container-id-10 div.sk-estimator:hover label.sk-toggleable__label-arrow:before {color: black;}#sk-container-id-10 div.sk-toggleable__content {max-height: 0;max-width: 0;overflow: hidden;text-align: left;background-color: #f0f8ff;}#sk-container-id-10 div.sk-toggleable__content pre {margin: 0.2em;color: black;border-radius: 0.25em;background-color: #f0f8ff;}#sk-container-id-10 input.sk-toggleable__control:checked~div.sk-toggleable__content {max-height: 200px;max-width: 100%;overflow: auto;}#sk-container-id-10 input.sk-toggleable__control:checked~label.sk-toggleable__label-arrow:before {content: \"▾\";}#sk-container-id-10 div.sk-estimator input.sk-toggleable__control:checked~label.sk-toggleable__label {background-color: #d4ebff;}#sk-container-id-10 div.sk-label input.sk-toggleable__control:checked~label.sk-toggleable__label {background-color: #d4ebff;}#sk-container-id-10 input.sk-hidden--visually {border: 0;clip: rect(1px 1px 1px 1px);clip: rect(1px, 1px, 1px, 1px);height: 1px;margin: -1px;overflow: hidden;padding: 0;position: absolute;width: 1px;}#sk-container-id-10 div.sk-estimator {font-family: monospace;background-color: #f0f8ff;border: 1px dotted black;border-radius: 0.25em;box-sizing: border-box;margin-bottom: 0.5em;}#sk-container-id-10 div.sk-estimator:hover {background-color: #d4ebff;}#sk-container-id-10 div.sk-parallel-item::after {content: \"\";width: 100%;border-bottom: 1px solid gray;flex-grow: 1;}#sk-container-id-10 div.sk-label:hover label.sk-toggleable__label {background-color: #d4ebff;}#sk-container-id-10 div.sk-serial::before {content: \"\";position: absolute;border-left: 1px solid gray;box-sizing: border-box;top: 0;bottom: 0;left: 50%;z-index: 0;}#sk-container-id-10 div.sk-serial {display: flex;flex-direction: column;align-items: center;background-color: white;padding-right: 0.2em;padding-left: 0.2em;position: relative;}#sk-container-id-10 div.sk-item {position: relative;z-index: 1;}#sk-container-id-10 div.sk-parallel {display: flex;align-items: stretch;justify-content: center;background-color: white;position: relative;}#sk-container-id-10 div.sk-item::before, #sk-container-id-10 div.sk-parallel-item::before {content: \"\";position: absolute;border-left: 1px solid gray;box-sizing: border-box;top: 0;bottom: 0;left: 50%;z-index: -1;}#sk-container-id-10 div.sk-parallel-item {display: flex;flex-direction: column;z-index: 1;position: relative;background-color: white;}#sk-container-id-10 div.sk-parallel-item:first-child::after {align-self: flex-end;width: 50%;}#sk-container-id-10 div.sk-parallel-item:last-child::after {align-self: flex-start;width: 50%;}#sk-container-id-10 div.sk-parallel-item:only-child::after {width: 0;}#sk-container-id-10 div.sk-dashed-wrapped {border: 1px dashed gray;margin: 0 0.4em 0.5em 0.4em;box-sizing: border-box;padding-bottom: 0.4em;background-color: white;}#sk-container-id-10 div.sk-label label {font-family: monospace;font-weight: bold;display: inline-block;line-height: 1.2em;}#sk-container-id-10 div.sk-label-container {text-align: center;}#sk-container-id-10 div.sk-container {/* jupyter's `normalize.less` sets `[hidden] { display: none; }` but bootstrap.min.css set `[hidden] { display: none !important; }` so we also need the `!important` here to be able to override the default hidden behavior on the sphinx rendered scikit-learn.org. See: https://github.com/scikit-learn/scikit-learn/issues/21755 */display: inline-block !important;position: relative;}#sk-container-id-10 div.sk-text-repr-fallback {display: none;}</style><div id=\"sk-container-id-10\" class=\"sk-top-container\"><div class=\"sk-text-repr-fallback\"><pre>LinearRegression()</pre><b>In a Jupyter environment, please rerun this cell to show the HTML representation or trust the notebook. <br />On GitHub, the HTML representation is unable to render, please try loading this page with nbviewer.org.</b></div><div class=\"sk-container\" hidden><div class=\"sk-item\"><div class=\"sk-estimator sk-toggleable\"><input class=\"sk-toggleable__control sk-hidden--visually\" id=\"sk-estimator-id-12\" type=\"checkbox\" checked><label for=\"sk-estimator-id-12\" class=\"sk-toggleable__label sk-toggleable__label-arrow\">LinearRegression</label><div class=\"sk-toggleable__content\"><pre>LinearRegression()</pre></div></div></div></div></div>"
      ],
      "text/plain": [
       "LinearRegression()"
      ]
     },
     "execution_count": 136,
     "metadata": {},
     "output_type": "execute_result"
    }
   ],
   "source": [
    "# Treinamento do modelo\n",
    "modelo_dsa_v1.fit(x_treino_scaled, y_treino)"
   ]
  },
  {
   "cell_type": "code",
   "execution_count": 137,
   "id": "c86235e5",
   "metadata": {},
   "outputs": [
    {
     "name": "stdout",
     "output_type": "stream",
     "text": [
      "Coeficientes: \n",
      " [[ 0.0810071   1.36720059 -1.14979067]]\n"
     ]
    }
   ],
   "source": [
    "# O que o modelo aprendeu:\n",
    "print(\"Coeficientes: \\n\", modelo_dsa_v1.coef_)"
   ]
  },
  {
   "cell_type": "code",
   "execution_count": 138,
   "id": "2c878e48",
   "metadata": {},
   "outputs": [],
   "source": [
    "# Previsões com dados de treino\n",
    "y_pred_treino_v1 = modelo_dsa_v1.predict(x_treino_scaled)"
   ]
  },
  {
   "cell_type": "code",
   "execution_count": 139,
   "id": "948b7beb",
   "metadata": {},
   "outputs": [
    {
     "name": "stdout",
     "output_type": "stream",
     "text": [
      "Mean Absolute Error: 1.3053673957566516\n",
      "Mean Squared Error: 3.5296401184198465\n",
      "Root Mean Squared Error: 1.8787336475455605\n",
      "R2 Score: 0.582441075839114\n"
     ]
    }
   ],
   "source": [
    "# Print das métricas em treino\n",
    "print('Mean Absolute Error:', metrics.mean_absolute_error(y_treino, y_pred_treino_v1))\n",
    "print('Mean Squared Error:', metrics.mean_squared_error(y_treino, y_pred_treino_v1))\n",
    "print('Root Mean Squared Error:', np.sqrt(metrics.mean_squared_error(y_treino, y_pred_treino_v1)))\n",
    "print('R2 Score:', metrics.r2_score(y_treino, y_pred_treino_v1))"
   ]
  },
  {
   "cell_type": "code",
   "execution_count": 140,
   "id": "d654f354",
   "metadata": {},
   "outputs": [],
   "source": [
    "# Previsões com dados de teste com padronização (CORRETO!!!!!!!!)\n",
    "y_pred_teste_v1 = modelo_dsa_v1.predict(x_teste_scaled)"
   ]
  },
  {
   "cell_type": "code",
   "execution_count": 141,
   "id": "33fb2f8c",
   "metadata": {},
   "outputs": [],
   "source": [
    "# Dataframe com as previsões e valores reais\n",
    "df_previsoes = pd.DataFrame({'Valor_Real': y_teste.flatten(), 'Valor_Previsto': y_pred_teste_v1.flatten()})"
   ]
  },
  {
   "cell_type": "code",
   "execution_count": 142,
   "id": "b2799536",
   "metadata": {},
   "outputs": [
    {
     "data": {
      "text/html": [
       "<div>\n",
       "<style scoped>\n",
       "    .dataframe tbody tr th:only-of-type {\n",
       "        vertical-align: middle;\n",
       "    }\n",
       "\n",
       "    .dataframe tbody tr th {\n",
       "        vertical-align: top;\n",
       "    }\n",
       "\n",
       "    .dataframe thead th {\n",
       "        text-align: right;\n",
       "    }\n",
       "</style>\n",
       "<table border=\"1\" class=\"dataframe\">\n",
       "  <thead>\n",
       "    <tr style=\"text-align: right;\">\n",
       "      <th></th>\n",
       "      <th>Valor_Real</th>\n",
       "      <th>Valor_Previsto</th>\n",
       "    </tr>\n",
       "  </thead>\n",
       "  <tbody>\n",
       "    <tr>\n",
       "      <th>0</th>\n",
       "      <td>0.645058</td>\n",
       "      <td>1.008098</td>\n",
       "    </tr>\n",
       "    <tr>\n",
       "      <th>1</th>\n",
       "      <td>1.777224</td>\n",
       "      <td>2.770004</td>\n",
       "    </tr>\n",
       "    <tr>\n",
       "      <th>2</th>\n",
       "      <td>0.767887</td>\n",
       "      <td>1.269653</td>\n",
       "    </tr>\n",
       "    <tr>\n",
       "      <th>3</th>\n",
       "      <td>7.251237</td>\n",
       "      <td>6.876403</td>\n",
       "    </tr>\n",
       "    <tr>\n",
       "      <th>4</th>\n",
       "      <td>1.751452</td>\n",
       "      <td>2.624483</td>\n",
       "    </tr>\n",
       "  </tbody>\n",
       "</table>\n",
       "</div>"
      ],
      "text/plain": [
       "   Valor_Real  Valor_Previsto\n",
       "0    0.645058        1.008098\n",
       "1    1.777224        2.770004\n",
       "2    0.767887        1.269653\n",
       "3    7.251237        6.876403\n",
       "4    1.751452        2.624483"
      ]
     },
     "execution_count": 142,
     "metadata": {},
     "output_type": "execute_result"
    }
   ],
   "source": [
    "# Visualiza\n",
    "df_previsoes.head()"
   ]
  },
  {
   "cell_type": "code",
   "execution_count": 143,
   "id": "51887735",
   "metadata": {},
   "outputs": [],
   "source": [
    "# Função para criar gráfico de dispersão\n",
    "def dsa_cria_scatter(x, y, title, xlabel, ylabel):\n",
    "    \n",
    "    # Figura e subplots\n",
    "    fig, ax = plt.subplots(figsize = (10, 6))\n",
    "    \n",
    "    # Scatter\n",
    "    ax.scatter(x, y, color = \"blue\", alpha = 0.3)\n",
    "\n",
    "    # Labels\n",
    "    ax.set_title(title)\n",
    "    ax.set_xlabel(xlabel)\n",
    "    ax.set_ylabel(ylabel)\n",
    "\n",
    "    ax.spines['top'].set_visible(False)\n",
    "    ax.spines['right'].set_visible(False)\n",
    "    \n",
    "    return"
   ]
  },
  {
   "cell_type": "code",
   "execution_count": 144,
   "id": "30a1ff4f",
   "metadata": {},
   "outputs": [
    {
     "data": {
      "image/png": "[encoded data removed]",
      "text/plain": [
       "<Figure size 1000x600 with 1 Axes>"
      ]
     },
     "metadata": {},
     "output_type": "display_data"
    }
   ],
   "source": [
    "# Plot das previsões\n",
    "dsa_cria_scatter(df_previsoes.Valor_Real, df_previsoes.Valor_Previsto, 'Modelo', 'Previsões', 'Reais')"
   ]
  },
  {
   "cell_type": "code",
   "execution_count": 145,
   "id": "a86e801e",
   "metadata": {},
   "outputs": [
    {
     "name": "stdout",
     "output_type": "stream",
     "text": [
      "Mean Absolute Error: 1.2102534655183874\n",
      "Mean Squared Error: 2.736844641541175\n",
      "Root Mean Squared Error: 1.6543411502894967\n",
      "R2 Score: 0.6578206073833919\n"
     ]
    }
   ],
   "source": [
    "# Print das métricas com dados de teste\n",
    "print('Mean Absolute Error:', metrics.mean_absolute_error(y_teste, y_pred_teste_v1))\n",
    "print('Mean Squared Error:', metrics.mean_squared_error(y_teste, y_pred_teste_v1))\n",
    "print('Root Mean Squared Error:', np.sqrt(metrics.mean_squared_error(y_teste, y_pred_teste_v1)))\n",
    "print('R2 Score:', metrics.r2_score(y_teste, y_pred_teste_v1))"
   ]
  },
  {
   "cell_type": "code",
   "execution_count": 146,
   "id": "0c7775c9",
   "metadata": {},
   "outputs": [],
   "source": [
    "# O alpha controla a força da regularização\n",
    "modelo_dsa_v2 = Lasso(alpha = 1.0)  "
   ]
  },
  {
   "cell_type": "code",
   "execution_count": 147,
   "id": "ad47256c",
   "metadata": {},
   "outputs": [
    {
     "data": {
      "text/html": [
       "<style>#sk-container-id-11 {color: black;background-color: white;}#sk-container-id-11 pre{padding: 0;}#sk-container-id-11 div.sk-toggleable {background-color: white;}#sk-container-id-11 label.sk-toggleable__label {cursor: pointer;display: block;width: 100%;margin-bottom: 0;padding: 0.3em;box-sizing: border-box;text-align: center;}#sk-container-id-11 label.sk-toggleable__label-arrow:before {content: \"▸\";float: left;margin-right: 0.25em;color: #696969;}#sk-container-id-11 label.sk-toggleable__label-arrow:hover:before {color: black;}#sk-container-id-11 div.sk-estimator:hover label.sk-toggleable__label-arrow:before {color: black;}#sk-container-id-11 div.sk-toggleable__content {max-height: 0;max-width: 0;overflow: hidden;text-align: left;background-color: #f0f8ff;}#sk-container-id-11 div.sk-toggleable__content pre {margin: 0.2em;color: black;border-radius: 0.25em;background-color: #f0f8ff;}#sk-container-id-11 input.sk-toggleable__control:checked~div.sk-toggleable__content {max-height: 200px;max-width: 100%;overflow: auto;}#sk-container-id-11 input.sk-toggleable__control:checked~label.sk-toggleable__label-arrow:before {content: \"▾\";}#sk-container-id-11 div.sk-estimator input.sk-toggleable__control:checked~label.sk-toggleable__label {background-color: #d4ebff;}#sk-container-id-11 div.sk-label input.sk-toggleable__control:checked~label.sk-toggleable__label {background-color: #d4ebff;}#sk-container-id-11 input.sk-hidden--visually {border: 0;clip: rect(1px 1px 1px 1px);clip: rect(1px, 1px, 1px, 1px);height: 1px;margin: -1px;overflow: hidden;padding: 0;position: absolute;width: 1px;}#sk-container-id-11 div.sk-estimator {font-family: monospace;background-color: #f0f8ff;border: 1px dotted black;border-radius: 0.25em;box-sizing: border-box;margin-bottom: 0.5em;}#sk-container-id-11 div.sk-estimator:hover {background-color: #d4ebff;}#sk-container-id-11 div.sk-parallel-item::after {content: \"\";width: 100%;border-bottom: 1px solid gray;flex-grow: 1;}#sk-container-id-11 div.sk-label:hover label.sk-toggleable__label {background-color: #d4ebff;}#sk-container-id-11 div.sk-serial::before {content: \"\";position: absolute;border-left: 1px solid gray;box-sizing: border-box;top: 0;bottom: 0;left: 50%;z-index: 0;}#sk-container-id-11 div.sk-serial {display: flex;flex-direction: column;align-items: center;background-color: white;padding-right: 0.2em;padding-left: 0.2em;position: relative;}#sk-container-id-11 div.sk-item {position: relative;z-index: 1;}#sk-container-id-11 div.sk-parallel {display: flex;align-items: stretch;justify-content: center;background-color: white;position: relative;}#sk-container-id-11 div.sk-item::before, #sk-container-id-11 div.sk-parallel-item::before {content: \"\";position: absolute;border-left: 1px solid gray;box-sizing: border-box;top: 0;bottom: 0;left: 50%;z-index: -1;}#sk-container-id-11 div.sk-parallel-item {display: flex;flex-direction: column;z-index: 1;position: relative;background-color: white;}#sk-container-id-11 div.sk-parallel-item:first-child::after {align-self: flex-end;width: 50%;}#sk-container-id-11 div.sk-parallel-item:last-child::after {align-self: flex-start;width: 50%;}#sk-container-id-11 div.sk-parallel-item:only-child::after {width: 0;}#sk-container-id-11 div.sk-dashed-wrapped {border: 1px dashed gray;margin: 0 0.4em 0.5em 0.4em;box-sizing: border-box;padding-bottom: 0.4em;background-color: white;}#sk-container-id-11 div.sk-label label {font-family: monospace;font-weight: bold;display: inline-block;line-height: 1.2em;}#sk-container-id-11 div.sk-label-container {text-align: center;}#sk-container-id-11 div.sk-container {/* jupyter's `normalize.less` sets `[hidden] { display: none; }` but bootstrap.min.css set `[hidden] { display: none !important; }` so we also need the `!important` here to be able to override the default hidden behavior on the sphinx rendered scikit-learn.org. See: https://github.com/scikit-learn/scikit-learn/issues/21755 */display: inline-block !important;position: relative;}#sk-container-id-11 div.sk-text-repr-fallback {display: none;}</style><div id=\"sk-container-id-11\" class=\"sk-top-container\"><div class=\"sk-text-repr-fallback\"><pre>Lasso()</pre><b>In a Jupyter environment, please rerun this cell to show the HTML representation or trust the notebook. <br />On GitHub, the HTML representation is unable to render, please try loading this page with nbviewer.org.</b></div><div class=\"sk-container\" hidden><div class=\"sk-item\"><div class=\"sk-estimator sk-toggleable\"><input class=\"sk-toggleable__control sk-hidden--visually\" id=\"sk-estimator-id-13\" type=\"checkbox\" checked><label for=\"sk-estimator-id-13\" class=\"sk-toggleable__label sk-toggleable__label-arrow\">Lasso</label><div class=\"sk-toggleable__content\"><pre>Lasso()</pre></div></div></div></div></div>"
      ],
      "text/plain": [
       "Lasso()"
      ]
     },
     "execution_count": 147,
     "metadata": {},
     "output_type": "execute_result"
    }
   ],
   "source": [
    "# Treina o modelo\n",
    "modelo_dsa_v2.fit(x_treino_scaled, y_treino)"
   ]
  },
  {
   "cell_type": "code",
   "execution_count": 148,
   "id": "021bdc5e",
   "metadata": {},
   "outputs": [],
   "source": [
    "# Previsões com dados de treino\n",
    "y_pred_treino_v2 = modelo_dsa_v2.predict(x_treino_scaled)"
   ]
  },
  {
   "cell_type": "code",
   "execution_count": 149,
   "id": "88b6315b",
   "metadata": {},
   "outputs": [
    {
     "name": "stdout",
     "output_type": "stream",
     "text": [
      "Mean Absolute Error: 1.6167760069686032\n",
      "Mean Squared Error: 4.893675518047034\n",
      "Root Mean Squared Error: 2.212165346000844\n",
      "R2 Score: 0.4210747226482181\n"
     ]
    }
   ],
   "source": [
    "# Print das métricas em treino\n",
    "print('Mean Absolute Error:', metrics.mean_absolute_error(y_treino, y_pred_treino_v2))\n",
    "print('Mean Squared Error:', metrics.mean_squared_error(y_treino, y_pred_treino_v2))\n",
    "print('Root Mean Squared Error:', np.sqrt(metrics.mean_squared_error(y_treino, y_pred_treino_v2)))\n",
    "print('R2 Score:', metrics.r2_score(y_treino, y_pred_treino_v2))"
   ]
  },
  {
   "cell_type": "code",
   "execution_count": 150,
   "id": "2f9536e3",
   "metadata": {},
   "outputs": [],
   "source": [
    "# Previsões com dados de teste com padronização \n",
    "y_pred_teste_v2 = modelo_dsa_v2.predict(x_teste_scaled)"
   ]
  },
  {
   "cell_type": "code",
   "execution_count": 151,
   "id": "e2166d2a",
   "metadata": {},
   "outputs": [
    {
     "name": "stdout",
     "output_type": "stream",
     "text": [
      "Mean Absolute Error: 1.5650240510974915\n",
      "Mean Squared Error: 4.237358142992358\n",
      "Root Mean Squared Error: 2.0584844286494755\n",
      "R2 Score: 0.47021595100419233\n"
     ]
    }
   ],
   "source": [
    "# Print das métricas com dados de teste\n",
    "print('Mean Absolute Error:', metrics.mean_absolute_error(y_teste, y_pred_teste_v2))\n",
    "print('Mean Squared Error:', metrics.mean_squared_error(y_teste, y_pred_teste_v2))\n",
    "print('Root Mean Squared Error:', np.sqrt(metrics.mean_squared_error(y_teste, y_pred_teste_v2)))\n",
    "print('R2 Score:', metrics.r2_score(y_teste, y_pred_teste_v2))"
   ]
  },
  {
   "cell_type": "code",
   "execution_count": 152,
   "id": "3dbd119a",
   "metadata": {},
   "outputs": [],
   "source": [
    "# Cria o modelo com regularização Ridge\n",
    "# O alpha é o parâmetro de regularização\n",
    "modelo_dsa_v3 = Ridge(alpha = 1.0)  "
   ]
  },
  {
   "cell_type": "code",
   "execution_count": 153,
   "id": "4229d216",
   "metadata": {},
   "outputs": [
    {
     "data": {
      "text/html": [
       "<style>#sk-container-id-12 {color: black;background-color: white;}#sk-container-id-12 pre{padding: 0;}#sk-container-id-12 div.sk-toggleable {background-color: white;}#sk-container-id-12 label.sk-toggleable__label {cursor: pointer;display: block;width: 100%;margin-bottom: 0;padding: 0.3em;box-sizing: border-box;text-align: center;}#sk-container-id-12 label.sk-toggleable__label-arrow:before {content: \"▸\";float: left;margin-right: 0.25em;color: #696969;}#sk-container-id-12 label.sk-toggleable__label-arrow:hover:before {color: black;}#sk-container-id-12 div.sk-estimator:hover label.sk-toggleable__label-arrow:before {color: black;}#sk-container-id-12 div.sk-toggleable__content {max-height: 0;max-width: 0;overflow: hidden;text-align: left;background-color: #f0f8ff;}#sk-container-id-12 div.sk-toggleable__content pre {margin: 0.2em;color: black;border-radius: 0.25em;background-color: #f0f8ff;}#sk-container-id-12 input.sk-toggleable__control:checked~div.sk-toggleable__content {max-height: 200px;max-width: 100%;overflow: auto;}#sk-container-id-12 input.sk-toggleable__control:checked~label.sk-toggleable__label-arrow:before {content: \"▾\";}#sk-container-id-12 div.sk-estimator input.sk-toggleable__control:checked~label.sk-toggleable__label {background-color: #d4ebff;}#sk-container-id-12 div.sk-label input.sk-toggleable__control:checked~label.sk-toggleable__label {background-color: #d4ebff;}#sk-container-id-12 input.sk-hidden--visually {border: 0;clip: rect(1px 1px 1px 1px);clip: rect(1px, 1px, 1px, 1px);height: 1px;margin: -1px;overflow: hidden;padding: 0;position: absolute;width: 1px;}#sk-container-id-12 div.sk-estimator {font-family: monospace;background-color: #f0f8ff;border: 1px dotted black;border-radius: 0.25em;box-sizing: border-box;margin-bottom: 0.5em;}#sk-container-id-12 div.sk-estimator:hover {background-color: #d4ebff;}#sk-container-id-12 div.sk-parallel-item::after {content: \"\";width: 100%;border-bottom: 1px solid gray;flex-grow: 1;}#sk-container-id-12 div.sk-label:hover label.sk-toggleable__label {background-color: #d4ebff;}#sk-container-id-12 div.sk-serial::before {content: \"\";position: absolute;border-left: 1px solid gray;box-sizing: border-box;top: 0;bottom: 0;left: 50%;z-index: 0;}#sk-container-id-12 div.sk-serial {display: flex;flex-direction: column;align-items: center;background-color: white;padding-right: 0.2em;padding-left: 0.2em;position: relative;}#sk-container-id-12 div.sk-item {position: relative;z-index: 1;}#sk-container-id-12 div.sk-parallel {display: flex;align-items: stretch;justify-content: center;background-color: white;position: relative;}#sk-container-id-12 div.sk-item::before, #sk-container-id-12 div.sk-parallel-item::before {content: \"\";position: absolute;border-left: 1px solid gray;box-sizing: border-box;top: 0;bottom: 0;left: 50%;z-index: -1;}#sk-container-id-12 div.sk-parallel-item {display: flex;flex-direction: column;z-index: 1;position: relative;background-color: white;}#sk-container-id-12 div.sk-parallel-item:first-child::after {align-self: flex-end;width: 50%;}#sk-container-id-12 div.sk-parallel-item:last-child::after {align-self: flex-start;width: 50%;}#sk-container-id-12 div.sk-parallel-item:only-child::after {width: 0;}#sk-container-id-12 div.sk-dashed-wrapped {border: 1px dashed gray;margin: 0 0.4em 0.5em 0.4em;box-sizing: border-box;padding-bottom: 0.4em;background-color: white;}#sk-container-id-12 div.sk-label label {font-family: monospace;font-weight: bold;display: inline-block;line-height: 1.2em;}#sk-container-id-12 div.sk-label-container {text-align: center;}#sk-container-id-12 div.sk-container {/* jupyter's `normalize.less` sets `[hidden] { display: none; }` but bootstrap.min.css set `[hidden] { display: none !important; }` so we also need the `!important` here to be able to override the default hidden behavior on the sphinx rendered scikit-learn.org. See: https://github.com/scikit-learn/scikit-learn/issues/21755 */display: inline-block !important;position: relative;}#sk-container-id-12 div.sk-text-repr-fallback {display: none;}</style><div id=\"sk-container-id-12\" class=\"sk-top-container\"><div class=\"sk-text-repr-fallback\"><pre>Ridge()</pre><b>In a Jupyter environment, please rerun this cell to show the HTML representation or trust the notebook. <br />On GitHub, the HTML representation is unable to render, please try loading this page with nbviewer.org.</b></div><div class=\"sk-container\" hidden><div class=\"sk-item\"><div class=\"sk-estimator sk-toggleable\"><input class=\"sk-toggleable__control sk-hidden--visually\" id=\"sk-estimator-id-14\" type=\"checkbox\" checked><label for=\"sk-estimator-id-14\" class=\"sk-toggleable__label sk-toggleable__label-arrow\">Ridge</label><div class=\"sk-toggleable__content\"><pre>Ridge()</pre></div></div></div></div></div>"
      ],
      "text/plain": [
       "Ridge()"
      ]
     },
     "execution_count": 153,
     "metadata": {},
     "output_type": "execute_result"
    }
   ],
   "source": [
    "# Treinamento do modelo\n",
    "modelo_dsa_v3.fit(x_treino_scaled, y_treino)"
   ]
  },
  {
   "cell_type": "code",
   "execution_count": 154,
   "id": "f85124bd",
   "metadata": {},
   "outputs": [],
   "source": [
    "# Previsões com dados de treino\n",
    "y_pred_treino_v3 = modelo_dsa_v3.predict(x_treino_scaled)"
   ]
  },
  {
   "cell_type": "code",
   "execution_count": 155,
   "id": "d3509bb5",
   "metadata": {},
   "outputs": [
    {
     "name": "stdout",
     "output_type": "stream",
     "text": [
      "Mean Absolute Error: 1.3053160944831521\n",
      "Mean Squared Error: 3.529642908487992\n",
      "Root Mean Squared Error: 1.8787343900849827\n",
      "R2 Score: 0.5824407457720777\n"
     ]
    }
   ],
   "source": [
    "# Print das métricas em treino\n",
    "print('Mean Absolute Error:', metrics.mean_absolute_error(y_treino, y_pred_treino_v3))\n",
    "print('Mean Squared Error:', metrics.mean_squared_error(y_treino, y_pred_treino_v3))\n",
    "print('Root Mean Squared Error:', np.sqrt(metrics.mean_squared_error(y_treino, y_pred_treino_v3)))\n",
    "print('R2 Score:', metrics.r2_score(y_treino, y_pred_treino_v3))"
   ]
  },
  {
   "cell_type": "code",
   "execution_count": 156,
   "id": "3a2384fd",
   "metadata": {},
   "outputs": [],
   "source": [
    "# Previsões com dados de teste com padronização \n",
    "y_pred_teste_v3 = modelo_dsa_v3.predict(x_teste_scaled)"
   ]
  },
  {
   "cell_type": "code",
   "execution_count": 157,
   "id": "b9a82139",
   "metadata": {},
   "outputs": [
    {
     "name": "stdout",
     "output_type": "stream",
     "text": [
      "Mean Absolute Error: 1.2102732981696027\n",
      "Mean Squared Error: 2.7370974655453715\n",
      "Root Mean Squared Error: 1.6544175608187226\n",
      "R2 Score: 0.6577889975642295\n"
     ]
    }
   ],
   "source": [
    "# Print das métricas com dados de teste\n",
    "print('Mean Absolute Error:', metrics.mean_absolute_error(y_teste, y_pred_teste_v3))\n",
    "print('Mean Squared Error:', metrics.mean_squared_error(y_teste, y_pred_teste_v3))\n",
    "print('Root Mean Squared Error:', np.sqrt(metrics.mean_squared_error(y_teste, y_pred_teste_v3)))\n",
    "print('R2 Score:', metrics.r2_score(y_teste, y_pred_teste_v3))"
   ]
  },
  {
   "cell_type": "code",
   "execution_count": 158,
   "id": "4ae25b3e",
   "metadata": {},
   "outputs": [],
   "source": [
    "# Cria o modelo com regularização Elastic Net\n",
    "# alpha é a força da regularização; l1_ratio é a mistura entre L1 e L2\n",
    "modelo_dsa_v4 = ElasticNet(alpha = 1.0, l1_ratio = 0.5)  "
   ]
  },
  {
   "cell_type": "code",
   "execution_count": 159,
   "id": "80a811bd",
   "metadata": {},
   "outputs": [
    {
     "data": {
      "text/html": [
       "<style>#sk-container-id-13 {color: black;background-color: white;}#sk-container-id-13 pre{padding: 0;}#sk-container-id-13 div.sk-toggleable {background-color: white;}#sk-container-id-13 label.sk-toggleable__label {cursor: pointer;display: block;width: 100%;margin-bottom: 0;padding: 0.3em;box-sizing: border-box;text-align: center;}#sk-container-id-13 label.sk-toggleable__label-arrow:before {content: \"▸\";float: left;margin-right: 0.25em;color: #696969;}#sk-container-id-13 label.sk-toggleable__label-arrow:hover:before {color: black;}#sk-container-id-13 div.sk-estimator:hover label.sk-toggleable__label-arrow:before {color: black;}#sk-container-id-13 div.sk-toggleable__content {max-height: 0;max-width: 0;overflow: hidden;text-align: left;background-color: #f0f8ff;}#sk-container-id-13 div.sk-toggleable__content pre {margin: 0.2em;color: black;border-radius: 0.25em;background-color: #f0f8ff;}#sk-container-id-13 input.sk-toggleable__control:checked~div.sk-toggleable__content {max-height: 200px;max-width: 100%;overflow: auto;}#sk-container-id-13 input.sk-toggleable__control:checked~label.sk-toggleable__label-arrow:before {content: \"▾\";}#sk-container-id-13 div.sk-estimator input.sk-toggleable__control:checked~label.sk-toggleable__label {background-color: #d4ebff;}#sk-container-id-13 div.sk-label input.sk-toggleable__control:checked~label.sk-toggleable__label {background-color: #d4ebff;}#sk-container-id-13 input.sk-hidden--visually {border: 0;clip: rect(1px 1px 1px 1px);clip: rect(1px, 1px, 1px, 1px);height: 1px;margin: -1px;overflow: hidden;padding: 0;position: absolute;width: 1px;}#sk-container-id-13 div.sk-estimator {font-family: monospace;background-color: #f0f8ff;border: 1px dotted black;border-radius: 0.25em;box-sizing: border-box;margin-bottom: 0.5em;}#sk-container-id-13 div.sk-estimator:hover {background-color: #d4ebff;}#sk-container-id-13 div.sk-parallel-item::after {content: \"\";width: 100%;border-bottom: 1px solid gray;flex-grow: 1;}#sk-container-id-13 div.sk-label:hover label.sk-toggleable__label {background-color: #d4ebff;}#sk-container-id-13 div.sk-serial::before {content: \"\";position: absolute;border-left: 1px solid gray;box-sizing: border-box;top: 0;bottom: 0;left: 50%;z-index: 0;}#sk-container-id-13 div.sk-serial {display: flex;flex-direction: column;align-items: center;background-color: white;padding-right: 0.2em;padding-left: 0.2em;position: relative;}#sk-container-id-13 div.sk-item {position: relative;z-index: 1;}#sk-container-id-13 div.sk-parallel {display: flex;align-items: stretch;justify-content: center;background-color: white;position: relative;}#sk-container-id-13 div.sk-item::before, #sk-container-id-13 div.sk-parallel-item::before {content: \"\";position: absolute;border-left: 1px solid gray;box-sizing: border-box;top: 0;bottom: 0;left: 50%;z-index: -1;}#sk-container-id-13 div.sk-parallel-item {display: flex;flex-direction: column;z-index: 1;position: relative;background-color: white;}#sk-container-id-13 div.sk-parallel-item:first-child::after {align-self: flex-end;width: 50%;}#sk-container-id-13 div.sk-parallel-item:last-child::after {align-self: flex-start;width: 50%;}#sk-container-id-13 div.sk-parallel-item:only-child::after {width: 0;}#sk-container-id-13 div.sk-dashed-wrapped {border: 1px dashed gray;margin: 0 0.4em 0.5em 0.4em;box-sizing: border-box;padding-bottom: 0.4em;background-color: white;}#sk-container-id-13 div.sk-label label {font-family: monospace;font-weight: bold;display: inline-block;line-height: 1.2em;}#sk-container-id-13 div.sk-label-container {text-align: center;}#sk-container-id-13 div.sk-container {/* jupyter's `normalize.less` sets `[hidden] { display: none; }` but bootstrap.min.css set `[hidden] { display: none !important; }` so we also need the `!important` here to be able to override the default hidden behavior on the sphinx rendered scikit-learn.org. See: https://github.com/scikit-learn/scikit-learn/issues/21755 */display: inline-block !important;position: relative;}#sk-container-id-13 div.sk-text-repr-fallback {display: none;}</style><div id=\"sk-container-id-13\" class=\"sk-top-container\"><div class=\"sk-text-repr-fallback\"><pre>ElasticNet()</pre><b>In a Jupyter environment, please rerun this cell to show the HTML representation or trust the notebook. <br />On GitHub, the HTML representation is unable to render, please try loading this page with nbviewer.org.</b></div><div class=\"sk-container\" hidden><div class=\"sk-item\"><div class=\"sk-estimator sk-toggleable\"><input class=\"sk-toggleable__control sk-hidden--visually\" id=\"sk-estimator-id-15\" type=\"checkbox\" checked><label for=\"sk-estimator-id-15\" class=\"sk-toggleable__label sk-toggleable__label-arrow\">ElasticNet</label><div class=\"sk-toggleable__content\"><pre>ElasticNet()</pre></div></div></div></div></div>"
      ],
      "text/plain": [
       "ElasticNet()"
      ]
     },
     "execution_count": 159,
     "metadata": {},
     "output_type": "execute_result"
    }
   ],
   "source": [
    "# Treinamento do modelo\n",
    "modelo_dsa_v4.fit(x_treino_scaled, y_treino)"
   ]
  },
  {
   "cell_type": "code",
   "execution_count": 160,
   "id": "da2e378c",
   "metadata": {},
   "outputs": [],
   "source": [
    "# Previsões com dados de treino\n",
    "y_pred_treino_v4 = modelo_dsa_v4.predict(x_treino_scaled)"
   ]
  },
  {
   "cell_type": "code",
   "execution_count": 161,
   "id": "931506d0",
   "metadata": {},
   "outputs": [
    {
     "name": "stdout",
     "output_type": "stream",
     "text": [
      "Mean Absolute Error: 1.4984232427008006\n",
      "Mean Squared Error: 4.456304493286372\n",
      "Root Mean Squared Error: 2.1109960903058\n",
      "R2 Score: 0.472816024432822\n"
     ]
    }
   ],
   "source": [
    "# Print das métricas em treino\n",
    "print('Mean Absolute Error:', metrics.mean_absolute_error(y_treino, y_pred_treino_v4))\n",
    "print('Mean Squared Error:', metrics.mean_squared_error(y_treino, y_pred_treino_v4))\n",
    "print('Root Mean Squared Error:', np.sqrt(metrics.mean_squared_error(y_treino, y_pred_treino_v4)))\n",
    "print('R2 Score:', metrics.r2_score(y_treino, y_pred_treino_v4))"
   ]
  },
  {
   "cell_type": "code",
   "execution_count": 162,
   "id": "66e97b74",
   "metadata": {},
   "outputs": [],
   "source": [
    "# Previsões com dados de teste com padronização \n",
    "y_pred_teste_v4 = modelo_dsa_v4.predict(x_teste_scaled)"
   ]
  },
  {
   "cell_type": "code",
   "execution_count": 163,
   "id": "728ccf49",
   "metadata": {},
   "outputs": [
    {
     "name": "stdout",
     "output_type": "stream",
     "text": [
      "Mean Absolute Error: 1.4431402619452225\n",
      "Mean Squared Error: 3.7967185348262893\n",
      "Root Mean Squared Error: 1.9485170091190607\n",
      "R2 Score: 0.525307786030743\n"
     ]
    }
   ],
   "source": [
    "# Print das métricas com dados de teste\n",
    "print('Mean Absolute Error:', metrics.mean_absolute_error(y_teste, y_pred_teste_v4))\n",
    "print('Mean Squared Error:', metrics.mean_squared_error(y_teste, y_pred_teste_v4))\n",
    "print('Root Mean Squared Error:', np.sqrt(metrics.mean_squared_error(y_teste, y_pred_teste_v4)))\n",
    "print('R2 Score:', metrics.r2_score(y_teste, y_pred_teste_v4))"
   ]
  },
  {
   "cell_type": "code",
   "execution_count": 164,
   "id": "53b8f7de",
   "metadata": {},
   "outputs": [],
   "source": [
    "# Definição do modelo\n",
    "modelo_dsa_v5 = Ridge()"
   ]
  },
  {
   "cell_type": "code",
   "execution_count": 165,
   "id": "e028562f",
   "metadata": {},
   "outputs": [],
   "source": [
    "# Definição do espaço de hiperparâmetros para otimização\n",
    "parametros = {'alpha': [0.01, 0.1, 1, 10, 100]}"
   ]
  },
  {
   "cell_type": "code",
   "execution_count": 166,
   "id": "9dca1996",
   "metadata": {},
   "outputs": [],
   "source": [
    "# Configuração do GridSearchCV\n",
    "grid_search_dsa = GridSearchCV(estimator = modelo_dsa_v5, \n",
    "                               param_grid = parametros, \n",
    "                               cv = 5, \n",
    "                               scoring = 'neg_mean_squared_error', \n",
    "                               verbose = 1)"
   ]
  },
  {
   "cell_type": "code",
   "execution_count": 167,
   "id": "5d7a6402",
   "metadata": {},
   "outputs": [
    {
     "name": "stdout",
     "output_type": "stream",
     "text": [
      "Fitting 5 folds for each of 5 candidates, totalling 25 fits\n"
     ]
    },
    {
     "data": {
      "text/html": [
       "<style>#sk-container-id-14 {color: black;background-color: white;}#sk-container-id-14 pre{padding: 0;}#sk-container-id-14 div.sk-toggleable {background-color: white;}#sk-container-id-14 label.sk-toggleable__label {cursor: pointer;display: block;width: 100%;margin-bottom: 0;padding: 0.3em;box-sizing: border-box;text-align: center;}#sk-container-id-14 label.sk-toggleable__label-arrow:before {content: \"▸\";float: left;margin-right: 0.25em;color: #696969;}#sk-container-id-14 label.sk-toggleable__label-arrow:hover:before {color: black;}#sk-container-id-14 div.sk-estimator:hover label.sk-toggleable__label-arrow:before {color: black;}#sk-container-id-14 div.sk-toggleable__content {max-height: 0;max-width: 0;overflow: hidden;text-align: left;background-color: #f0f8ff;}#sk-container-id-14 div.sk-toggleable__content pre {margin: 0.2em;color: black;border-radius: 0.25em;background-color: #f0f8ff;}#sk-container-id-14 input.sk-toggleable__control:checked~div.sk-toggleable__content {max-height: 200px;max-width: 100%;overflow: auto;}#sk-container-id-14 input.sk-toggleable__control:checked~label.sk-toggleable__label-arrow:before {content: \"▾\";}#sk-container-id-14 div.sk-estimator input.sk-toggleable__control:checked~label.sk-toggleable__label {background-color: #d4ebff;}#sk-container-id-14 div.sk-label input.sk-toggleable__control:checked~label.sk-toggleable__label {background-color: #d4ebff;}#sk-container-id-14 input.sk-hidden--visually {border: 0;clip: rect(1px 1px 1px 1px);clip: rect(1px, 1px, 1px, 1px);height: 1px;margin: -1px;overflow: hidden;padding: 0;position: absolute;width: 1px;}#sk-container-id-14 div.sk-estimator {font-family: monospace;background-color: #f0f8ff;border: 1px dotted black;border-radius: 0.25em;box-sizing: border-box;margin-bottom: 0.5em;}#sk-container-id-14 div.sk-estimator:hover {background-color: #d4ebff;}#sk-container-id-14 div.sk-parallel-item::after {content: \"\";width: 100%;border-bottom: 1px solid gray;flex-grow: 1;}#sk-container-id-14 div.sk-label:hover label.sk-toggleable__label {background-color: #d4ebff;}#sk-container-id-14 div.sk-serial::before {content: \"\";position: absolute;border-left: 1px solid gray;box-sizing: border-box;top: 0;bottom: 0;left: 50%;z-index: 0;}#sk-container-id-14 div.sk-serial {display: flex;flex-direction: column;align-items: center;background-color: white;padding-right: 0.2em;padding-left: 0.2em;position: relative;}#sk-container-id-14 div.sk-item {position: relative;z-index: 1;}#sk-container-id-14 div.sk-parallel {display: flex;align-items: stretch;justify-content: center;background-color: white;position: relative;}#sk-container-id-14 div.sk-item::before, #sk-container-id-14 div.sk-parallel-item::before {content: \"\";position: absolute;border-left: 1px solid gray;box-sizing: border-box;top: 0;bottom: 0;left: 50%;z-index: -1;}#sk-container-id-14 div.sk-parallel-item {display: flex;flex-direction: column;z-index: 1;position: relative;background-color: white;}#sk-container-id-14 div.sk-parallel-item:first-child::after {align-self: flex-end;width: 50%;}#sk-container-id-14 div.sk-parallel-item:last-child::after {align-self: flex-start;width: 50%;}#sk-container-id-14 div.sk-parallel-item:only-child::after {width: 0;}#sk-container-id-14 div.sk-dashed-wrapped {border: 1px dashed gray;margin: 0 0.4em 0.5em 0.4em;box-sizing: border-box;padding-bottom: 0.4em;background-color: white;}#sk-container-id-14 div.sk-label label {font-family: monospace;font-weight: bold;display: inline-block;line-height: 1.2em;}#sk-container-id-14 div.sk-label-container {text-align: center;}#sk-container-id-14 div.sk-container {/* jupyter's `normalize.less` sets `[hidden] { display: none; }` but bootstrap.min.css set `[hidden] { display: none !important; }` so we also need the `!important` here to be able to override the default hidden behavior on the sphinx rendered scikit-learn.org. See: https://github.com/scikit-learn/scikit-learn/issues/21755 */display: inline-block !important;position: relative;}#sk-container-id-14 div.sk-text-repr-fallback {display: none;}</style><div id=\"sk-container-id-14\" class=\"sk-top-container\"><div class=\"sk-text-repr-fallback\"><pre>GridSearchCV(cv=5, estimator=Ridge(),\n",
       "             param_grid={&#x27;alpha&#x27;: [0.01, 0.1, 1, 10, 100]},\n",
       "             scoring=&#x27;neg_mean_squared_error&#x27;, verbose=1)</pre><b>In a Jupyter environment, please rerun this cell to show the HTML representation or trust the notebook. <br />On GitHub, the HTML representation is unable to render, please try loading this page with nbviewer.org.</b></div><div class=\"sk-container\" hidden><div class=\"sk-item sk-dashed-wrapped\"><div class=\"sk-label-container\"><div class=\"sk-label sk-toggleable\"><input class=\"sk-toggleable__control sk-hidden--visually\" id=\"sk-estimator-id-16\" type=\"checkbox\" ><label for=\"sk-estimator-id-16\" class=\"sk-toggleable__label sk-toggleable__label-arrow\">GridSearchCV</label><div class=\"sk-toggleable__content\"><pre>GridSearchCV(cv=5, estimator=Ridge(),\n",
       "             param_grid={&#x27;alpha&#x27;: [0.01, 0.1, 1, 10, 100]},\n",
       "             scoring=&#x27;neg_mean_squared_error&#x27;, verbose=1)</pre></div></div></div><div class=\"sk-parallel\"><div class=\"sk-parallel-item\"><div class=\"sk-item\"><div class=\"sk-label-container\"><div class=\"sk-label sk-toggleable\"><input class=\"sk-toggleable__control sk-hidden--visually\" id=\"sk-estimator-id-17\" type=\"checkbox\" ><label for=\"sk-estimator-id-17\" class=\"sk-toggleable__label sk-toggleable__label-arrow\">estimator: Ridge</label><div class=\"sk-toggleable__content\"><pre>Ridge()</pre></div></div></div><div class=\"sk-serial\"><div class=\"sk-item\"><div class=\"sk-estimator sk-toggleable\"><input class=\"sk-toggleable__control sk-hidden--visually\" id=\"sk-estimator-id-18\" type=\"checkbox\" ><label for=\"sk-estimator-id-18\" class=\"sk-toggleable__label sk-toggleable__label-arrow\">Ridge</label><div class=\"sk-toggleable__content\"><pre>Ridge()</pre></div></div></div></div></div></div></div></div></div></div>"
      ],
      "text/plain": [
       "GridSearchCV(cv=5, estimator=Ridge(),\n",
       "             param_grid={'alpha': [0.01, 0.1, 1, 10, 100]},\n",
       "             scoring='neg_mean_squared_error', verbose=1)"
      ]
     },
     "execution_count": 167,
     "metadata": {},
     "output_type": "execute_result"
    }
   ],
   "source": [
    "# Treinamento com otimização de hiperparâmetros\n",
    "grid_search_dsa.fit(x_treino_scaled, y_treino)"
   ]
  },
  {
   "cell_type": "code",
   "execution_count": 168,
   "id": "38e092c3",
   "metadata": {},
   "outputs": [],
   "source": [
    "# Melhor modelo\n",
    "melhor_modelo = grid_search_dsa.best_estimator_"
   ]
  },
  {
   "cell_type": "code",
   "execution_count": 169,
   "id": "6dd3ecc6",
   "metadata": {},
   "outputs": [],
   "source": [
    "# Previsões com dados de treino\n",
    "y_pred_treino_v5 = melhor_modelo.predict(x_treino_scaled)"
   ]
  },
  {
   "cell_type": "code",
   "execution_count": 170,
   "id": "60aa00a4",
   "metadata": {},
   "outputs": [
    {
     "name": "stdout",
     "output_type": "stream",
     "text": [
      "Mean Absolute Error: 1.3053668839687746\n",
      "Mean Squared Error: 3.529640118700069\n",
      "Root Mean Squared Error: 1.878733647620138\n",
      "R2 Score: 0.5824410758059635\n"
     ]
    }
   ],
   "source": [
    "# Métricas em treino\n",
    "print('Mean Absolute Error:', metrics.mean_absolute_error(y_treino, y_pred_treino_v5))\n",
    "print('Mean Squared Error:', metrics.mean_squared_error(y_treino, y_pred_treino_v5))\n",
    "print('Root Mean Squared Error:', np.sqrt(metrics.mean_squared_error(y_treino, y_pred_treino_v5)))\n",
    "print('R2 Score:', metrics.r2_score(y_treino, y_pred_treino_v5))"
   ]
  },
  {
   "cell_type": "code",
   "execution_count": 171,
   "id": "04361567",
   "metadata": {},
   "outputs": [],
   "source": [
    "# Previsões com dados de teste\n",
    "y_pred_teste_v5 = melhor_modelo.predict(x_teste_scaled)"
   ]
  },
  {
   "cell_type": "code",
   "execution_count": 172,
   "id": "0c1414c2",
   "metadata": {},
   "outputs": [
    {
     "name": "stdout",
     "output_type": "stream",
     "text": [
      "Mean Absolute Error: 1.21025366743206\n",
      "Mean Squared Error: 2.736847145166775\n",
      "Root Mean Squared Error: 1.6543419069729133\n",
      "R2 Score: 0.6578202943626694\n"
     ]
    }
   ],
   "source": [
    "# Métricas com dados de teste\n",
    "print('Mean Absolute Error:', metrics.mean_absolute_error(y_teste, y_pred_teste_v5))\n",
    "print('Mean Squared Error:', metrics.mean_squared_error(y_teste, y_pred_teste_v5))\n",
    "print('Root Mean Squared Error:', np.sqrt(metrics.mean_squared_error(y_teste, y_pred_teste_v5)))\n",
    "print('R2 Score:', metrics.r2_score(y_teste, y_pred_teste_v5))"
   ]
  },
  {
   "cell_type": "code",
   "execution_count": 173,
   "id": "d096bc37",
   "metadata": {},
   "outputs": [
    {
     "name": "stdout",
     "output_type": "stream",
     "text": [
      "Melhor alpha: 0.01\n"
     ]
    }
   ],
   "source": [
    "# Imprime o melhor hiperparâmetro\n",
    "print('Melhor alpha:', grid_search_dsa.best_params_['alpha'])"
   ]
  },
  {
   "cell_type": "code",
   "execution_count": 174,
   "id": "94631a06",
   "metadata": {},
   "outputs": [
    {
     "name": "stdout",
     "output_type": "stream",
     "text": [
      "RMSE V1: 1.6543411502894967\n",
      "RMSE V2: 2.0584844286494755\n",
      "RMSE V3: 1.6544175608187226\n",
      "RMSE V4: 1.9485170091190607\n",
      "RMSE V5: 1.6543419069729133\n"
     ]
    }
   ],
   "source": [
    "print('RMSE V1:', np.sqrt(metrics.mean_squared_error(y_teste, y_pred_teste_v1)))\n",
    "print('RMSE V2:', np.sqrt(metrics.mean_squared_error(y_teste, y_pred_teste_v2)))\n",
    "print('RMSE V3:', np.sqrt(metrics.mean_squared_error(y_teste, y_pred_teste_v3)))\n",
    "print('RMSE V4:', np.sqrt(metrics.mean_squared_error(y_teste, y_pred_teste_v4)))\n",
    "print('RMSE V5:', np.sqrt(metrics.mean_squared_error(y_teste, y_pred_teste_v5)))"
   ]
  },
  {
   "cell_type": "code",
   "execution_count": 175,
   "id": "a9e3f998",
   "metadata": {},
   "outputs": [
    {
     "name": "stdout",
     "output_type": "stream",
     "text": [
      "R2 Score Modelo V1: 0.6578206073833919\n",
      "R2 Score Modelo V2: 0.47021595100419233\n",
      "R2 Score Modelo V3: 0.6577889975642295\n",
      "R2 Score Modelo V4: 0.525307786030743\n",
      "R2 Score Modelo V5: 0.6578202943626694\n"
     ]
    }
   ],
   "source": [
    "print('R2 Score Modelo V1:', metrics.r2_score(y_teste, y_pred_teste_v1))\n",
    "print('R2 Score Modelo V2:', metrics.r2_score(y_teste, y_pred_teste_v2))\n",
    "print('R2 Score Modelo V3:', metrics.r2_score(y_teste, y_pred_teste_v3))\n",
    "print('R2 Score Modelo V4:', metrics.r2_score(y_teste, y_pred_teste_v4))\n",
    "print('R2 Score Modelo V5:', metrics.r2_score(y_teste, y_pred_teste_v5))"
   ]
  },
  {
   "cell_type": "code",
   "execution_count": 176,
   "id": "92cabef3",
   "metadata": {},
   "outputs": [
    {
     "data": {
      "image/png": "[encoded data removed]",
      "text/plain": [
       "<Figure size 1000x500 with 1 Axes>"
      ]
     },
     "metadata": {},
     "output_type": "display_data"
    },
    {
     "data": {
      "image/png": "[encoded data removed]",
      "text/plain": [
       "<Figure size 1000x500 with 1 Axes>"
      ]
     },
     "metadata": {},
     "output_type": "display_data"
    }
   ],
   "source": [
    "# Calculando os resíduos para o conjunto de treino\n",
    "residuos_treino = y_treino - y_pred_treino_v1\n",
    "\n",
    "# Calculando os resíduos para o conjunto de teste\n",
    "residuos_teste = y_teste - y_pred_teste_v1\n",
    "\n",
    "# Plotando os resíduos do conjunto de treino\n",
    "plt.figure(figsize = (10, 5))\n",
    "plt.scatter(y_pred_treino_v1, residuos_treino, color = 'blue', label = 'Treino', alpha = 0.5)\n",
    "plt.axhline(y = 0, color = 'red', linestyle = '--')\n",
    "plt.xlabel('Valores Previstos')\n",
    "plt.ylabel('Resíduos')\n",
    "plt.title('Resíduos vs. Valores Previstos (Treino)')\n",
    "plt.legend()\n",
    "plt.show()\n",
    "\n",
    "# Plotando os resíduos do conjunto de teste\n",
    "plt.figure(figsize = (10, 5))\n",
    "plt.scatter(y_pred_teste_v1, residuos_teste, color = 'green', label = 'Teste', alpha = 0.5)\n",
    "plt.axhline(y = 0, color = 'red', linestyle = '--')\n",
    "plt.xlabel('Valores Previstos')\n",
    "plt.ylabel('Resíduos')\n",
    "plt.title('Resíduos vs. Valores Previstos (Teste)')\n",
    "plt.legend()\n",
    "plt.show()"
   ]
  },
  {
   "cell_type": "code",
   "execution_count": null,
   "id": "469538e1",
   "metadata": {},
   "outputs": [],
   "source": []
  },
  {
   "cell_type": "code",
   "execution_count": null,
   "id": "2bbcaef7",
   "metadata": {},
   "outputs": [],
   "source": []
  },
  {
   "cell_type": "code",
   "execution_count": null,
   "id": "f42318a1",
   "metadata": {},
   "outputs": [],
   "source": []
  }
 ],
 "metadata": {
  "kernelspec": {
   "display_name": "Python 3 (ipykernel)",
   "language": "python",
   "name": "python3"
  },
  "language_info": {
   "codemirror_mode": {
    "name": "ipython",
    "version": 3
   },
   "file_extension": ".py",
   "mimetype": "text/x-python",
   "name": "python",
   "nbconvert_exporter": "python",
   "pygments_lexer": "ipython3",
   "version": "3.10.9"
  }
 },
 "nbformat": 4,
 "nbformat_minor": 5
}
